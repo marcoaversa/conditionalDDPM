{
 "cells": [
  {
   "cell_type": "code",
   "execution_count": 1,
   "id": "f1582580",
   "metadata": {},
   "outputs": [],
   "source": [
    "!git config --global user.email marco.aversa@outlook.com\n",
    "!git config --global user.name marcoaversa"
   ]
  },
  {
   "cell_type": "code",
   "execution_count": 2,
   "id": "421c3dba",
   "metadata": {},
   "outputs": [
    {
     "name": "stdout",
     "output_type": "stream",
     "text": [
      "user.email=marco.aversa@outlook.com\r\n",
      "user.name=marcoaversa\r\n",
      "core.repositoryformatversion=0\r\n",
      "core.filemode=true\r\n",
      "core.bare=false\r\n",
      "core.logallrefupdates=true\r\n",
      "remote.origin.url=https://github.com/marcoaversa/conditionalDDPM.git\r\n",
      "remote.origin.fetch=+refs/heads/*:refs/remotes/origin/*\r\n",
      "branch.master.remote=origin\r\n",
      "branch.master.merge=refs/heads/master\r\n",
      "credential.helper=cache --timeout=8000\r\n"
     ]
    }
   ],
   "source": [
    "!git config --list"
   ]
  },
  {
   "cell_type": "code",
   "execution_count": 8,
   "id": "f74a88e0",
   "metadata": {},
   "outputs": [],
   "source": [
    "#When running this command, the first time you pull or push from the remote repository, you'll get asked about the username and password.\n",
    "#Afterwards, for consequent communications with the remote repository you don't have to provide the username and password.\n",
    "!git config --global credential.helper store\n",
    "!git config --global credential.helper 'cache --timeout=8000'\n",
    "\"\"\"Doesn't work anymore!\"\"\""
   ]
  }
 ],
 "metadata": {
  "kernelspec": {
   "display_name": "Python 3 (ipykernel)",
   "language": "python",
   "name": "python3"
  },
  "language_info": {
   "codemirror_mode": {
    "name": "ipython",
    "version": 3
   },
   "file_extension": ".py",
   "mimetype": "text/x-python",
   "name": "python",
   "nbconvert_exporter": "python",
   "pygments_lexer": "ipython3",
   "version": "3.7.12"
  }
 },
 "nbformat": 4,
 "nbformat_minor": 5
}
