{
 "cells": [
  {
   "cell_type": "code",
   "execution_count": 1,
   "id": "f1582580",
   "metadata": {},
   "outputs": [
    {
     "name": "stdout",
     "output_type": "stream",
     "text": [
      "\r\n",
      "*** Please tell me who you are.\r\n",
      "\r\n",
      "Run\r\n",
      "\r\n",
      "  git config --global user.email \"you@example.com\"\r\n",
      "  git config --global user.name \"Your Name\"\r\n",
      "\r\n",
      "to set your account's default identity.\r\n",
      "Omit --global to set the identity only in this repository.\r\n",
      "\r\n",
      "fatal: unable to auto-detect email address (got 'unknown@jupyter-nogpu-1-6tpbj.(none)')\r\n"
     ]
    }
   ],
   "source": [
    "!git config --global user.email marco.aversa@outlook.com\n",
    "!git config "
   ]
  }
 ],
 "metadata": {
  "kernelspec": {
   "display_name": "Python 3 (ipykernel)",
   "language": "python",
   "name": "python3"
  },
  "language_info": {
   "codemirror_mode": {
    "name": "ipython",
    "version": 3
   },
   "file_extension": ".py",
   "mimetype": "text/x-python",
   "name": "python",
   "nbconvert_exporter": "python",
   "pygments_lexer": "ipython3",
   "version": "3.8.8"
  }
 },
 "nbformat": 4,
 "nbformat_minor": 5
}
