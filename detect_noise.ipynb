{
 "cells": [
  {
   "cell_type": "code",
   "execution_count": 1,
   "id": "c9946922",
   "metadata": {},
   "outputs": [],
   "source": [
    "\"\"\"Libraries\"\"\"\n",
    "from tqdm import tqdm\n",
    "import torch\n",
    "import torch.nn as nn\n",
    "from models.DDPM import Unet\n",
    "from utils.dataset import import_dataset\n",
    "import matplotlib.pyplot as plt\n",
    "\n",
    "black_level=99.6\n",
    "gain=2.2\n",
    "readout_noise=3.0\n",
    "white_level=2**16-1\n",
    "\n",
    "def electron_repr(image_data):\n",
    "    return (image_data - black_level)/ gain\n",
    "\n",
    "def digital_repr(image_data):\n",
    "    return (image_data * gain + black_level)\n",
    "\n",
    "def noise_distr(image_data: torch.Tensor, factor: float):\n",
    "    if not 0 <= factor < 1:\n",
    "        raise ValueError(\"factor must be between 0 and 1\")\n",
    "\n",
    "    electron_repr(image_data)\n",
    "    scaled_data = factor * image_data\n",
    "    noise_var = (1 - factor) * torch.clip(scaled_data, 0, None) + \\\n",
    "                (1 - factor ** 2) * (electron_repr(readout_noise / gain)) ** 2\n",
    "    return digital_repr(torch.normal(0, torch.sqrt(noise_var)))\n",
    "\n",
    "def energy_norm(x: torch.Tensor):\n",
    "    mu = 488.0386\n",
    "    sigma = 3.5994\n",
    "    return (x-mu)/sigma\n",
    "\n",
    "def energy_denorm(x: torch.Tensor):\n",
    "    mu = 488.0386\n",
    "    sigma = 3.5994\n",
    "    return torch.clip((x*sigma+mu),0,self.white_level)"
   ]
  },
  {
   "cell_type": "code",
   "execution_count": 2,
   "id": "495d049f",
   "metadata": {},
   "outputs": [
    {
     "name": "stdout",
     "output_type": "stream",
     "text": [
      "Loading Dataset\n",
      "Light Sheet data imported!\n"
     ]
    }
   ],
   "source": [
    "\"\"\"Dataset\"\"\"\n",
    "name = 'ls_ae'\n",
    "mode = name.split('_')[-1]\n",
    "\n",
    "train_loader, valid_loader = import_dataset(data_name=name, \n",
    "                                            batch_size=32, \n",
    "                                            image_size = 256,\n",
    "                                            force_download = False)"
   ]
  },
  {
   "cell_type": "code",
   "execution_count": 3,
   "id": "7f88b109",
   "metadata": {},
   "outputs": [],
   "source": [
    "\"\"\"Model\"\"\"\n",
    "model = Unet(dim=32,out_dim=1,dim_mults=(1, 2, 4, 8),channels=1)\n",
    "lr=0.00002\n",
    "\n",
    "model.cuda()\n",
    "\n",
    "criterion=nn.MSELoss()\n",
    "optimizer=torch.optim.Adam(model.parameters(), lr=lr)"
   ]
  },
  {
   "cell_type": "code",
   "execution_count": 6,
   "id": "70a7b7a5",
   "metadata": {},
   "outputs": [
    {
     "name": "stderr",
     "output_type": "stream",
     "text": [
      "56it [00:37,  1.49it/s]\n"
     ]
    },
    {
     "name": "stdout",
     "output_type": "stream",
     "text": [
      "[1] loss: 654637.562\n"
     ]
    },
    {
     "name": "stderr",
     "output_type": "stream",
     "text": [
      "56it [00:38,  1.47it/s]\n"
     ]
    },
    {
     "name": "stdout",
     "output_type": "stream",
     "text": [
      "[2] loss: 654291.133\n"
     ]
    },
    {
     "name": "stderr",
     "output_type": "stream",
     "text": [
      "56it [00:38,  1.46it/s]\n"
     ]
    },
    {
     "name": "stdout",
     "output_type": "stream",
     "text": [
      "[3] loss: 653945.077\n"
     ]
    },
    {
     "name": "stderr",
     "output_type": "stream",
     "text": [
      "56it [00:38,  1.46it/s]\n"
     ]
    },
    {
     "name": "stdout",
     "output_type": "stream",
     "text": [
      "[4] loss: 653573.440\n"
     ]
    },
    {
     "name": "stderr",
     "output_type": "stream",
     "text": [
      "56it [00:38,  1.47it/s]\n"
     ]
    },
    {
     "name": "stdout",
     "output_type": "stream",
     "text": [
      "[5] loss: 653261.459\n"
     ]
    },
    {
     "name": "stderr",
     "output_type": "stream",
     "text": [
      "56it [00:38,  1.47it/s]\n"
     ]
    },
    {
     "name": "stdout",
     "output_type": "stream",
     "text": [
      "[6] loss: 652926.775\n"
     ]
    },
    {
     "name": "stderr",
     "output_type": "stream",
     "text": [
      "56it [00:38,  1.46it/s]\n"
     ]
    },
    {
     "name": "stdout",
     "output_type": "stream",
     "text": [
      "[7] loss: 652587.662\n"
     ]
    },
    {
     "name": "stderr",
     "output_type": "stream",
     "text": [
      "56it [00:38,  1.46it/s]\n"
     ]
    },
    {
     "name": "stdout",
     "output_type": "stream",
     "text": [
      "[8] loss: 652196.117\n"
     ]
    },
    {
     "name": "stderr",
     "output_type": "stream",
     "text": [
      "56it [00:38,  1.45it/s]\n"
     ]
    },
    {
     "name": "stdout",
     "output_type": "stream",
     "text": [
      "[9] loss: 651869.792\n"
     ]
    },
    {
     "name": "stderr",
     "output_type": "stream",
     "text": [
      "56it [00:38,  1.46it/s]"
     ]
    },
    {
     "name": "stdout",
     "output_type": "stream",
     "text": [
      "[10] loss: 651465.348\n",
      "Finished Training\n"
     ]
    },
    {
     "name": "stderr",
     "output_type": "stream",
     "text": [
      "\n"
     ]
    }
   ],
   "source": [
    "\"\"\"Training\"\"\"\n",
    "for epoch in range(10): \n",
    "\n",
    "    running_loss = 0.0\n",
    "    for i, data in tqdm(enumerate(train_loader, 0)):\n",
    "        _, labels = data\n",
    "        labels=labels.to('cuda:0')\n",
    "        noise = torch.zeros_like(labels)\n",
    "        time=[]\n",
    "        for i,l in enumerate(labels):\n",
    "#             time.append(int(torch.rand(1).item()*1001))\n",
    "            time.append(500)\n",
    "            noise[i] = noise_distr(l, torch.linspace(0,1000,1001)[time[-1]]/1001)\n",
    "\n",
    "        optimizer.zero_grad()\n",
    "        \n",
    "        labels = energy_norm(labels)\n",
    "        noise = energy_norm(noise)\n",
    "\n",
    "        outputs = model(labels,torch.tensor(time).to('cuda:0'))\n",
    "        loss = criterion(outputs, noise)\n",
    "        loss.backward()\n",
    "        optimizer.step()\n",
    "\n",
    "        running_loss += loss.item()\n",
    "        \n",
    "    print(f'[{epoch + 1}] loss: {running_loss:.3f}')\n",
    "    running_loss = 0.0\n",
    "\n",
    "print('Finished Training')"
   ]
  },
  {
   "cell_type": "code",
   "execution_count": null,
   "id": "42821f7a",
   "metadata": {},
   "outputs": [],
   "source": [
    "\"\"\"Test\"\"\"\n",
    "x,y = next(iter(valid_loader))\n",
    "img = y[0]\n",
    "img = energy_norm(img)\n",
    "\n",
    "plt.figure()\n",
    "plt.imshow(noise_distr(img,0.5))\n",
    "plt.figure()\n",
    "plt.imshow(model(img))"
   ]
  }
 ],
 "metadata": {
  "kernelspec": {
   "display_name": "Python 3 (ipykernel)",
   "language": "python",
   "name": "python3"
  },
  "language_info": {
   "codemirror_mode": {
    "name": "ipython",
    "version": 3
   },
   "file_extension": ".py",
   "mimetype": "text/x-python",
   "name": "python",
   "nbconvert_exporter": "python",
   "pygments_lexer": "ipython3",
   "version": "3.7.12"
  }
 },
 "nbformat": 4,
 "nbformat_minor": 5
}
