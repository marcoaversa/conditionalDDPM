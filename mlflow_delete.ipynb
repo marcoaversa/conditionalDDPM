{
 "cells": [
  {
   "cell_type": "code",
   "execution_count": 5,
   "id": "0931463b",
   "metadata": {},
   "outputs": [],
   "source": [
    "#Delete artifacts from UI and then remove the directory with artifacts locally\n",
    "\n",
    "import os\n",
    "import shutil\n",
    "from mlflow.tracking.client import MlflowClient\n",
    "\n",
    "storage_path = '/nfs/mlflow'\n",
    "tracking_uri = 'http://mlflowroute-2587054aproject.ida.dcs.gla.ac.uk/'\n",
    "\n",
    "client = MlflowClient(tracking_uri)\n",
    "for exp in client.list_experiments():\n",
    "    experiment_name = exp.name\n",
    "    experiment_id = exp.experiment_id\n",
    "    exp_storage_path = os.path.join(storage_path, experiment_id)\n",
    "    runs=[]\n",
    "    for i,run in enumerate(client.list_run_infos(experiment_id)):\n",
    "        runs.append(run.run_id)\n",
    "    for local_run in os.listdir(exp_storage_path):\n",
    "        if local_run not in runs and local_run != 'meta.yaml':\n",
    "            shutil.rmtree(os.path.join(exp_storage_path,local_run))"
   ]
  },
  {
   "cell_type": "code",
   "execution_count": 98,
   "id": "d7b871a1",
   "metadata": {},
   "outputs": [
    {
     "name": "stdout",
     "output_type": "stream",
     "text": [
      "0 471c1ee368ae4a01957b151e3336e64d seq_norandom_normenergyXY\n",
      "1 92e50a3ae7014970b6612e15da8b796b MNIST_conditional\n",
      "2 cbe4695c586a48c0b979ca1482796664 MNIST_unconditional\n"
     ]
    }
   ],
   "source": [
    "\"\"\"Check runs for an experiment\"\"\"\n",
    "\n",
    "from mlflow import mlflow\n",
    "from mlflow.tracking.client import MlflowClient\n",
    "\n",
    "tracking_uri = 'http://mlflowroute-2587054aproject.ida.dcs.gla.ac.uk/'\n",
    "experiment_name = 'conditionalDDPM'\n",
    "\n",
    "# mlflow.set_tracking_uri(tracking_uri)\n",
    "# # mlflow.set_experiment(args.experiment_name)\n",
    "# experiment_id = mlflow.get_experiment_by_name(experiment_name).experiment_id\n",
    "# for run in mlflow.list_run_infos(experiment_id):\n",
    "#     print(dir(run))\n",
    "\n",
    "client = MlflowClient(tracking_uri)\n",
    "experiment_id = client.get_experiment_by_name(experiment_name).experiment_id\n",
    "runs=[]\n",
    "for i,run in enumerate(client.list_run_infos(experiment_id)):\n",
    "    runs.append(run.run_id)\n",
    "    print(i, run.run_id, client.get_run(run.run_id).data.params['run_name'])\n"
   ]
  },
  {
   "cell_type": "code",
   "execution_count": 72,
   "id": "5d0e54a1",
   "metadata": {},
   "outputs": [],
   "source": [
    "#Delete a sub-set of runs\n",
    "indices = []\n",
    "\n",
    "for i in indices:\n",
    "    client.delete_run(runs[i])"
   ]
  }
 ],
 "metadata": {
  "kernelspec": {
   "display_name": "Python 3 (ipykernel)",
   "language": "python",
   "name": "python3"
  },
  "language_info": {
   "codemirror_mode": {
    "name": "ipython",
    "version": 3
   },
   "file_extension": ".py",
   "mimetype": "text/x-python",
   "name": "python",
   "nbconvert_exporter": "python",
   "pygments_lexer": "ipython3",
   "version": "3.7.12"
  }
 },
 "nbformat": 4,
 "nbformat_minor": 5
}
