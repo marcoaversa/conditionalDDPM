{
 "cells": [
  {
   "cell_type": "code",
   "execution_count": 13,
   "id": "0931463b",
   "metadata": {},
   "outputs": [],
   "source": [
    "#Delete artifacts from UI and then remove the directory with artifacts locally\n",
    "\n",
    "import os\n",
    "import shutil\n",
    "from mlflow.tracking.client import MlflowClient\n",
    "\n",
    "storage_path = '/nfs/mlflow'\n",
    "tracking_uri = 'http://mlflowroute-2587054aproject.ida.dcs.gla.ac.uk/'\n",
    "\n",
    "client = MlflowClient(tracking_uri)\n",
    "for exp in client.list_experiments():\n",
    "    experiment_name = exp.name\n",
    "    experiment_id = exp.experiment_id\n",
    "    exp_storage_path = os.path.join(storage_path, experiment_id)\n",
    "    runs=[]\n",
    "    for i,run in enumerate(client.list_run_infos(experiment_id)):\n",
    "        runs.append(run.run_id)\n",
    "    for local_run in os.listdir(exp_storage_path):\n",
    "        if local_run not in runs and local_run != 'meta.yaml':\n",
    "            shutil.rmtree(os.path.join(exp_storage_path,local_run))"
   ]
  },
  {
   "cell_type": "code",
   "execution_count": 1,
   "id": "d7b871a1",
   "metadata": {},
   "outputs": [
    {
     "name": "stdout",
     "output_type": "stream",
     "text": [
      "0 02c79b6e4e2d4c46978af156cdec80f4 ls_step00_FastSampling\n",
      "1 9ba516245342411e8e70f23686bf0dc7 CIFAR10_FastSampling\n",
      "2 5e6124897d314d0781621d27bf95c7fa ls_step01_noclip\n",
      "3 785b3043d27e406bb6187ffc93ab22b1 ls_step01_mean_std\n",
      "4 9ba4a150ffe24ebfbbf3813166b7986c ls_step01_clip8\n",
      "5 4b1e7e5feda54d449a9c72986fad88be ls_step09\n",
      "6 0d2c41febbad42e784a985781d67e2d4 ls_step08\n",
      "7 6349bbd9c3ad4d16b448f337447fc831 ls_step07\n",
      "8 bbfdf62b3c0b47d7b33e78b2c44db4c8 ls_step06\n",
      "9 ce7ab396e9a8498083b20aa9ead62d6a ls_step05\n",
      "10 43b624eeeb774cc0a9d12c6ab395b871 ls_step04\n",
      "11 415e2e2a326a45e2856d89b6f5f4286c ls_step03\n",
      "12 6163236bcb8840bb843414e8085d2fc5 ls_step02\n",
      "13 355d13afe0aa48b1a2153889684086ab ls_step01\n",
      "14 fbaf330b4e7648a19bf5e4f01299647b ls_step00\n",
      "15 ee499edf174147d2a9991e252306e407 ls_step02\n",
      "16 fc1969727e6b4463839b7b9e0b0ebb7a ls_step01\n",
      "17 d6c35e6a7a1246ff8efd251fb56768b1 ls_step00\n",
      "18 84583d6d37ae434d9f195ae90dcb197a ls_step00\n",
      "19 5a0d91b8d2e74f81a5f77bf0739b9878 ls_aedownup016_crop32\n",
      "20 f9d1b14b938a4934938a776de4842afb ls_aedownup08_crop32\n",
      "21 76004be3811741eb9d71597122c7d31c ls_aedownup04_crop32\n",
      "22 c02de8b071d2401e8b55ba4caae24408 ls_aedownup02_crop32\n",
      "23 fbbb2235086c4b8e8f348cfc9cac3fe0 ls_firstlast\n",
      "24 6bcfe4a4ff48465d8b36ddad715ce225 ls_aedp\n",
      "25 d64e3ced0e8d4df5887fd3323df10f6d ls_aedownup04\n",
      "26 01441a26050b49cead31037edbb7effc ls_aedownup04\n",
      "27 d5a40e2adf4d495f9e57d52987d642f1 ls_aedownup08\n",
      "28 45a4bd9765e847158ab0937ff04071fb ls_aedp_downsampled\n",
      "29 a4fc44d0e83748cf8efb4cec07cfcbd1 seqfull_train_test\n",
      "30 92e50a3ae7014970b6612e15da8b796b MNIST_conditional\n",
      "31 cbe4695c586a48c0b979ca1482796664 MNIST_unconditional\n"
     ]
    }
   ],
   "source": [
    "\"\"\"Check runs for an experiment\"\"\"\n",
    "\n",
    "from mlflow import mlflow\n",
    "from mlflow.tracking.client import MlflowClient\n",
    "\n",
    "tracking_uri = 'http://mlflowroute-2587054aproject.ida.dcs.gla.ac.uk/'\n",
    "experiment_name = 'conditionalDDPM'\n",
    "\n",
    "# mlflow.set_tracking_uri(tracking_uri)\n",
    "# # mlflow.set_experiment(args.experiment_name)\n",
    "# experiment_id = mlflow.get_experiment_by_name(experiment_name).experiment_id\n",
    "# for run in mlflow.list_run_infos(experiment_id):\n",
    "#     print(dir(run))\n",
    "\n",
    "client = MlflowClient(tracking_uri)\n",
    "experiment_id = client.get_experiment_by_name(experiment_name).experiment_id\n",
    "runs=[]\n",
    "for i,run in enumerate(client.list_run_infos(experiment_id)):\n",
    "    runs.append(run.run_id)\n",
    "    print(i, run.run_id, client.get_run(run.run_id).data.params['run_name'])\n"
   ]
  },
  {
   "cell_type": "code",
   "execution_count": 10,
   "id": "53fc0cfb",
   "metadata": {},
   "outputs": [
    {
     "name": "stdout",
     "output_type": "stream",
     "text": [
      "tracking_uri\n",
      "experiment_name\n",
      "run_name\n",
      "dataset\n",
      "dataset_path\n",
      "image_size\n",
      "dim\n",
      "n_layers\n",
      "mode\n",
      "model_type\n",
      "save_loss_every\n",
      "sample_every\n",
      "timesteps\n",
      "train_num_steps\n",
      "loss\n",
      "lr\n",
      "batch_size\n",
      "device\n"
     ]
    },
    {
     "data": {
      "text/plain": [
       "float"
      ]
     },
     "execution_count": 10,
     "metadata": {},
     "output_type": "execute_result"
    }
   ],
   "source": [
    "\"\"\"Check runs for an experiment\"\"\"\n",
    "\n",
    "from mlflow import mlflow\n",
    "from mlflow.tracking.client import MlflowClient\n",
    "\n",
    "tracking_uri = 'http://mlflowroute-2587054aproject.ida.dcs.gla.ac.uk/'\n",
    "experiment_name = 'dev'\n",
    "run_name = 'MNIST'\n",
    "\n",
    "client = MlflowClient(tracking_uri)\n",
    "experiment_id = client.get_experiment_by_name(experiment_name).experiment_id\n",
    "runs_names = [client.get_run(run.run_id).data.params['run_name'] for run in client.list_run_infos(experiment_id)]\n",
    "runs_id = [run.run_id for run in client.list_run_infos(experiment_id)]\n",
    "run_id = runs_id[runs_names.index(run_name)] # Return the id corresponding to the last run with that name\n",
    "\n",
    "run = client.get_run(run_id)\n",
    "for element in run.data.params:\n",
    "    globals()[element] = run.data.params[element]\n",
    "    print(element)"
   ]
  },
  {
   "cell_type": "code",
   "execution_count": 72,
   "id": "5d0e54a1",
   "metadata": {},
   "outputs": [],
   "source": [
    "#Delete a sub-set of runs\n",
    "indices = []\n",
    "\n",
    "for i in indices:\n",
    "    client.delete_run(runs[i])"
   ]
  }
 ],
 "metadata": {
  "kernelspec": {
   "display_name": "Python 3 (ipykernel)",
   "language": "python",
   "name": "python3"
  },
  "language_info": {
   "codemirror_mode": {
    "name": "ipython",
    "version": 3
   },
   "file_extension": ".py",
   "mimetype": "text/x-python",
   "name": "python",
   "nbconvert_exporter": "python",
   "pygments_lexer": "ipython3",
   "version": "3.7.12"
  }
 },
 "nbformat": 4,
 "nbformat_minor": 5
}
