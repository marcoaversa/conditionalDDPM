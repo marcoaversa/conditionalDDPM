{
 "cells": [
  {
   "cell_type": "markdown",
   "id": "d6f67cb7",
   "metadata": {},
   "source": [
    "# Super Resolution Experiments"
   ]
  },
  {
   "cell_type": "markdown",
   "id": "b329ef7a",
   "metadata": {},
   "source": [
    "## Train "
   ]
  },
  {
   "cell_type": "code",
   "execution_count": null,
   "id": "8ad36f11",
   "metadata": {},
   "outputs": [
    {
     "name": "stderr",
     "output_type": "stream",
     "text": [
      "2022/06/22 16:36:42 WARNING mlflow.tracking.context.registry: Encountered unexpected error during resolving tags: 'getpwuid(): uid not found: 1001030000'\n",
      "GPU available: True, used: True\n",
      "TPU available: False, using: 0 TPU cores\n",
      "IPU available: False, using: 0 IPUs\n",
      "LOCAL_RANK: 0 - CUDA_VISIBLE_DEVICES: [0]\n",
      "\n",
      "  | Name  | Type              | Params\n",
      "--------------------------------------------\n",
      "0 | model | GaussianDiffusion | 117 M \n",
      "--------------------------------------------\n",
      "117 M     Trainable params\n",
      "0         Non-trainable params\n",
      "117 M     Total params\n",
      "468.746   Total estimated model params size (MB)\n",
      "/usr/local/lib/python3.7/site-packages/pytorch_lightning/trainer/data_loading.py:112: UserWarning: The dataloader, train_dataloader, does not have many workers which may be a bottleneck. Consider increasing the value of the `num_workers` argument` (try 64 which is the number of cpus on this machine) in the `DataLoader` init to improve performance.\n",
      "  f\"The dataloader, {name}, does not have many workers which may be a bottleneck.\"\n"
     ]
    },
    {
     "name": "stdout",
     "output_type": "stream",
     "text": [
      "Epoch 15:  18%|█▊        | 10/56 [00:03<00:14,  3.17it/s, loss=0.107, v_num=a0f7]"
     ]
    }
   ],
   "source": [
    "import os\n",
    "\n",
    "for scale in [16,]:\n",
    "    #MLFlow\n",
    "    experiment_name='conditionalDDPM'; run_name=f'ls_aedownup{scale:02d}'\n",
    "\n",
    "    #Dataset\n",
    "    dataset=f'ls_aedownup{scale:02d}'; image_size=128\n",
    "\n",
    "    #Model\n",
    "    timesteps=1000; dim=128; n_layers=4; model_type='c'; clip = 1\n",
    "\n",
    "    #Hyperparameters\n",
    "    train_num_steps=2000; lr=0.000001; batch_size=16\n",
    "\n",
    "    os.system(f\"python train_ls.py --dataset={dataset} --experiment_name={experiment_name} --run_name={run_name} --image_size={image_size} --timesteps={timesteps} --dim={dim} --n_layers={n_layers} --model_type={model_type} --clip={clip} --train_num_steps={train_num_steps} --lr={lr} --batch_size={batch_size} \")  "
   ]
  }
 ],
 "metadata": {
  "kernelspec": {
   "display_name": "Python 3 (ipykernel)",
   "language": "python",
   "name": "python3"
  },
  "language_info": {
   "codemirror_mode": {
    "name": "ipython",
    "version": 3
   },
   "file_extension": ".py",
   "mimetype": "text/x-python",
   "name": "python",
   "nbconvert_exporter": "python",
   "pygments_lexer": "ipython3",
   "version": "3.7.12"
  }
 },
 "nbformat": 4,
 "nbformat_minor": 5
}
