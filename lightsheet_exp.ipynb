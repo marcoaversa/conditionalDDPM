{
 "cells": [
  {
   "cell_type": "markdown",
   "id": "3e7cda4f",
   "metadata": {},
   "source": [
    "# Super Resolution Experiments"
   ]
  },
  {
   "cell_type": "markdown",
   "id": "f95ba660",
   "metadata": {},
   "source": [
    "## Train "
   ]
  },
  {
   "cell_type": "code",
   "execution_count": null,
   "id": "f5947e3a",
   "metadata": {},
   "outputs": [],
   "source": [
    "import os\n",
    "\n",
    "for scale in [2,4,8,16]:\n",
    "    #MLFlow\n",
    "    experiment_name='conditionalDDPM'; run_name=f'ls_aedownup{scale:02d}'\n",
    "\n",
    "    #Dataset\n",
    "    dataset=f'ls_aedownup{scale:02d}'; image_size=256\n",
    "\n",
    "    #Model\n",
    "    timesteps=8000; dim=32; n_layers=4; model_type='c'; clip = 1\n",
    "\n",
    "    #Hyperparameters\n",
    "    train_num_steps=2000; lr=0.00001; batch_size=16\n",
    "\n",
    "    os.system(f\"python train_ls.py --dataset={dataset} --experiment_name={experiment_name} --run_name={run_name} --image_size={image_size} --timesteps={timesteps} --dim={dim} --n_layers={n_layers} --model_type={model_type} --clip={clip} --train_num_steps={train_num_steps} --lr={lr} --batch_size={batch_size} \")  "
   ]
  },
  {
   "cell_type": "code",
   "execution_count": null,
   "id": "0428043a",
   "metadata": {},
   "outputs": [
    {
     "name": "stderr",
     "output_type": "stream",
     "text": [
      "2022/06/29 13:34:22 WARNING mlflow.tracking.context.registry: Encountered unexpected error during resolving tags: 'getpwuid(): uid not found: 1001030000'\n",
      "GPU available: True, used: True\n",
      "TPU available: False, using: 0 TPU cores\n",
      "IPU available: False, using: 0 IPUs\n",
      "LOCAL_RANK: 0 - CUDA_VISIBLE_DEVICES: [0]\n",
      "\n",
      "  | Name  | Type              | Params\n",
      "--------------------------------------------\n",
      "0 | model | GaussianDiffusion | 464 M \n",
      "--------------------------------------------\n",
      "464 M     Trainable params\n",
      "0         Non-trainable params\n",
      "464 M     Total params\n",
      "1,858.667 Total estimated model params size (MB)\n",
      "/usr/local/lib/python3.7/site-packages/pytorch_lightning/trainer/data_loading.py:112: UserWarning: The dataloader, train_dataloader, does not have many workers which may be a bottleneck. Consider increasing the value of the `num_workers` argument` (try 64 which is the number of cpus on this machine) in the `DataLoader` init to improve performance.\n",
      "  f\"The dataloader, {name}, does not have many workers which may be a bottleneck.\"\n"
     ]
    },
    {
     "name": "stdout",
     "output_type": "stream",
     "text": [
      "Epoch 0:  89%|████████▉ | 100/112 [02:28<00:17,  1.48s/it, loss=0.291, v_num=a44c]"
     ]
    },
    {
     "name": "stderr",
     "output_type": "stream",
     "text": [
      "/usr/local/lib/python3.7/site-packages/torch/nn/functional.py:2608: UserWarning: reduction: 'mean' divides the total loss by both the batch size and the support size.'batchmean' divides only by the batch size, and aligns with the KL div math definition.'mean' will be changed to behave the same as 'batchmean' in the next major release.\n",
      "  \"reduction: 'mean' divides the total loss by both the batch size and the support size.\"\n",
      "LOCAL_RANK: 0 - CUDA_VISIBLE_DEVICES: [0]\n",
      "/usr/local/lib/python3.7/site-packages/pytorch_lightning/trainer/data_loading.py:112: UserWarning: The dataloader, test_dataloader 0, does not have many workers which may be a bottleneck. Consider increasing the value of the `num_workers` argument` (try 64 which is the number of cpus on this machine) in the `DataLoader` init to improve performance.\n",
      "  f\"The dataloader, {name}, does not have many workers which may be a bottleneck.\"\n"
     ]
    },
    {
     "name": "stdout",
     "output_type": "stream",
     "text": [
      "\n",
      "Testing: 100%|██████████| 1/1 [06:33<00:00, 393.85s/it]--------------------------------------------------------------------------------\n",
      "DATALOADER:0 TEST RESULTS\n",
      "{}\n",
      "--------------------------------------------------------------------------------\n",
      "Testing: 100%|██████████| 1/1 [06:33<00:00, 393.85s/it]\n"
     ]
    },
    {
     "name": "stderr",
     "output_type": "stream",
     "text": [
      "2022/06/29 13:44:52 WARNING mlflow.tracking.context.registry: Encountered unexpected error during resolving tags: 'getpwuid(): uid not found: 1001030000'\n",
      "GPU available: True, used: True\n",
      "TPU available: False, using: 0 TPU cores\n",
      "IPU available: False, using: 0 IPUs\n",
      "LOCAL_RANK: 0 - CUDA_VISIBLE_DEVICES: [0]\n",
      "\n",
      "  | Name  | Type              | Params\n",
      "--------------------------------------------\n",
      "0 | model | GaussianDiffusion | 464 M \n",
      "--------------------------------------------\n",
      "464 M     Trainable params\n",
      "0         Non-trainable params\n",
      "464 M     Total params\n",
      "1,858.667 Total estimated model params size (MB)\n",
      "/usr/local/lib/python3.7/site-packages/pytorch_lightning/trainer/data_loading.py:112: UserWarning: The dataloader, train_dataloader, does not have many workers which may be a bottleneck. Consider increasing the value of the `num_workers` argument` (try 64 which is the number of cpus on this machine) in the `DataLoader` init to improve performance.\n",
      "  f\"The dataloader, {name}, does not have many workers which may be a bottleneck.\"\n"
     ]
    },
    {
     "name": "stdout",
     "output_type": "stream",
     "text": [
      "Epoch 0:  45%|████▍     | 50/112 [00:39<00:49,  1.26it/s, loss=0.359, v_num=7b2a]"
     ]
    }
   ],
   "source": [
    "import os\n",
    "\n",
    "for step in range(15):\n",
    "    #MLFlow\n",
    "    experiment_name='conditionalDDPM'; run_name=f'ls_step{step:02d}'\n",
    "\n",
    "    #Dataset\n",
    "    dataset=f'ls_step{step:02d}'; image_size=256\n",
    "\n",
    "    #Model\n",
    "    timesteps=8000; dim=256; n_layers=4; model_type='c'; clip = 1\n",
    "\n",
    "    #Hyperparameters\n",
    "    train_num_steps=100; lr=0.00001; batch_size=16\n",
    "\n",
    "    os.system(f\"python train_ls.py --dataset={dataset} --experiment_name={experiment_name} --run_name={run_name} --image_size={image_size} --timesteps={timesteps} --dim={dim} --n_layers={n_layers} --model_type={model_type} --clip={clip} --train_num_steps={train_num_steps} --lr={lr} --batch_size={batch_size} \")  "
   ]
  }
 ],
 "metadata": {
  "kernelspec": {
   "display_name": "Python 3 (ipykernel)",
   "language": "python",
   "name": "python3"
  },
  "language_info": {
   "codemirror_mode": {
    "name": "ipython",
    "version": 3
   },
   "file_extension": ".py",
   "mimetype": "text/x-python",
   "name": "python",
   "nbconvert_exporter": "python",
   "pygments_lexer": "ipython3",
   "version": "3.7.12"
  }
 },
 "nbformat": 4,
 "nbformat_minor": 5
}
